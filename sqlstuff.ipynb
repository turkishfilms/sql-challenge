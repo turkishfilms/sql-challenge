{
 "cells": [
  {
   "cell_type": "code",
   "execution_count": 159,
   "metadata": {},
   "outputs": [],
   "source": [
    "import pandas as pd\n",
    "from sqlalchemy import create_engine, text, inspect\n",
    "from sqlalchemy import Column, Integer, String, Float, ForeignKey,Date\n",
    "from sqlalchemy.ext.declarative import declarative_base\n",
    "from sqlalchemy.orm import Session\n",
    "from uuid import uuid4\n",
    "Base = declarative_base()"
   ]
  },
  {
   "cell_type": "code",
   "execution_count": 43,
   "metadata": {},
   "outputs": [],
   "source": [
    "dept_path = r\"data/departments.csv\"\n",
    "deptemp_path = r\"data/dept_emp.csv\"\n",
    "deptman_path = r\"data/dept_manager.csv\"\n",
    "emp_path = r\"data/employees.csv\"\n",
    "salary_path = r\"data/salaries.csv\"\n",
    "title_path = r\"data/titles.csv\""
   ]
  },
  {
   "cell_type": "code",
   "execution_count": 44,
   "metadata": {},
   "outputs": [],
   "source": [
    "dept_df = pd.read_csv(dept_path)\n",
    "deptemp_df = pd.read_csv(deptemp_path)\n",
    "deptman_df = pd.read_csv(deptman_path)\n",
    "emp_df = pd.read_csv(emp_path)\n",
    "salary_df = pd.read_csv(salary_path)\n",
    "title_df = pd.read_csv(title_path)"
   ]
  },
  {
   "cell_type": "code",
   "execution_count": 161,
   "metadata": {},
   "outputs": [],
   "source": [
    "class Title(Base):\n",
    "    __tablename__ = \"titles\"\n",
    "    title_id = Column(String(255), primary_key = True)\n",
    "    title = Column(String(255))"
   ]
  },
  {
   "cell_type": "code",
   "execution_count": 162,
   "metadata": {},
   "outputs": [],
   "source": [
    "class Department(Base):\n",
    "    __tablename__ = \"departments\"\n",
    "    dept_no = Column(String(255),primary_key=True)\n",
    "    dept_name = Column(String(255))"
   ]
  },
  {
   "cell_type": "code",
   "execution_count": 160,
   "metadata": {},
   "outputs": [],
   "source": [
    "class Employee(Base):\n",
    "    __tablename__ = \"employees\"\n",
    "    emp_no = Column(Integer,primary_key=True)\n",
    "    emp_title_id = Column(Integer, ForeignKey(Title.title_id),primary_key = True) \n",
    "    birth_date = Column(String(255))\n",
    "    first_name = Column(String(255))\n",
    "    last_name = Column(String(255))\n",
    "    sex = Column(String(255))\n",
    "    hire_date = Column(String(255))"
   ]
  },
  {
   "cell_type": "code",
   "execution_count": 168,
   "metadata": {},
   "outputs": [],
   "source": [
    "class Manager(Base):\n",
    "    __tablename__ = \"managers\"\n",
    "    dept_no = Column(String(255), ForeignKey(Department.dept_no), primary_key = True)\n",
    "    emp_no = Column(Integer, ForeignKey(Employee.emp_no), primary_key = True)"
   ]
  },
  {
   "cell_type": "code",
   "execution_count": 169,
   "metadata": {},
   "outputs": [],
   "source": [
    "class Salary(Base):\n",
    "    __tablename__ = \"salaries\"\n",
    "    emp_no = Column(Integer, ForeignKey(Employee.emp_no), primary_key = True)\n",
    "    salary = Column(Integer)"
   ]
  },
  {
   "cell_type": "code",
   "execution_count": 170,
   "metadata": {},
   "outputs": [],
   "source": [
    "class Department_Employee(Base):\n",
    "    __tablename__ = \"department_employees\"\n",
    "    emp_no = Column(Integer, ForeignKey(Employee.emp_no), primary_key = True)\n",
    "    dept_no = Column(String(255), ForeignKey(Department.dept_no),nullable=False, primary_key = True)"
   ]
  },
  {
   "cell_type": "code",
   "execution_count": 10,
   "metadata": {},
   "outputs": [],
   "source": [
    "def deptf(ind,df):\n",
    "    return Department(dept_no = df.iloc[ind][\"dept_no\"], dept_name = df.iloc[ind][\"dept_name\"])"
   ]
  },
  {
   "cell_type": "code",
   "execution_count": 11,
   "metadata": {},
   "outputs": [],
   "source": [
    "def titlef(ind,df):\n",
    "    return Title(title_id = df.iloc[ind][\"title_id\"], title = df.iloc[ind][\"title\"])"
   ]
  },
  {
   "cell_type": "code",
   "execution_count": 12,
   "metadata": {},
   "outputs": [],
   "source": [
    "def deptempf(ind,df):\n",
    "    return Department_Employee(dept_no = df.iloc[ind][\"dept_no\"], emp_no = df.iloc[ind][\"emp_no\"])"
   ]
  },
  {
   "cell_type": "code",
   "execution_count": 13,
   "metadata": {},
   "outputs": [],
   "source": [
    "def deptmanf(ind,df):\n",
    "    return Manager(dept_no = df.iloc[ind][\"dept_no\"], emp_no = df.iloc[ind][\"emp_no\"])"
   ]
  },
  {
   "cell_type": "code",
   "execution_count": 255,
   "metadata": {},
   "outputs": [],
   "source": [
    "def salaryf(ind,df):\n",
    "    return Salary(emp_no =int(df.iloc[ind][\"emp_no\"]), salary = int(df.iloc[ind][\"salary\"]))"
   ]
  },
  {
   "cell_type": "code",
   "execution_count": 153,
   "metadata": {},
   "outputs": [],
   "source": [
    "def empf(ind,df):\n",
    "    return Employee(emp_no = df.iloc[ind][\"emp_no\"], \n",
    "                    emp_title_id = df.iloc[ind][\"emp_title_id\"],\n",
    "                    birth_date = df.iloc[ind][\"birth_date\"],\n",
    "                    first_name = df.iloc[ind][\"first_name\"], \n",
    "                    last_name = df.iloc[ind][\"last_name\"],\n",
    "                    sex = df.iloc[ind][\"sex\"],\n",
    "                    hire_date = Date(df.iloc[ind][\"hire_date\"]), )"
   ]
  },
  {
   "cell_type": "code",
   "execution_count": 126,
   "metadata": {},
   "outputs": [],
   "source": [
    "def add_df_to_table_please(df,fx,session,num=0):\n",
    "    if num > 0: num_rows = num\n",
    "    else : num_rows = len(df.index)\n",
    "    for i in range(num_rows):\n",
    "        thing = fx(i,df)\n",
    "        # print(thing.dept_no,thing.emp_no)\n",
    "        session.add(thing)\n",
    "    session.commit()"
   ]
  },
  {
   "cell_type": "code",
   "execution_count": 17,
   "metadata": {},
   "outputs": [],
   "source": [
    "def deletef(table,session):\n",
    "    for i in table:\n",
    "        session.delete(i)\n",
    "    session.commit()"
   ]
  },
  {
   "cell_type": "code",
   "execution_count": 185,
   "metadata": {},
   "outputs": [],
   "source": [
    "engine = create_engine('sqlite:///data/j5.sqlite')\n",
    "Base.metadata.create_all(engine)\n",
    "session = Session(bind=engine)"
   ]
  },
  {
   "cell_type": "code",
   "execution_count": 258,
   "metadata": {},
   "outputs": [],
   "source": [
    "inspector = inspect(engine)\n",
    "inspector.get_table_names()\n",
    "# inspector.get_columns('departments')"
   ]
  },
  {
   "cell_type": "code",
   "execution_count": 273,
   "metadata": {},
   "outputs": [],
   "source": [
    "# add_df_to_table_please(dept_df,deptf,session) #check!!\n",
    "# add_df_to_table_please(deptemp_df,deptempf,session)\n",
    "# add_df_to_table_please(deptman_df,deptmanf,session) #check!!\n",
    "# add_df_to_table_please(emp_df,empf,session) #check!\n",
    "# add_df_to_table_please(salary_df,salaryf,session) #check!!\n",
    "# add_df_to_table_please(title_df,titlef,session) #check!!"
   ]
  },
  {
   "cell_type": "code",
   "execution_count": 275,
   "metadata": {},
   "outputs": [],
   "source": [
    "depts_2 = session.query(Department)\n",
    "deptemps_2 = session.query(Department_Employee).filter(Department_Employee.dept_no == \"d001\")\n",
    "deptmans_2 = session.query(Manager)\n",
    "emps_2 = session.query(Employee).filter(Employee.emp_title_id == \"m0001\")\n",
    "salaries_2 = session.query(Salary).filter(Salary.salary > 100000)\n",
    "titles_2 = session.query(Title)\n",
    "# deletef(deptemps_2,session)\n",
    "# int.from_bytes(t.emp_no,\"little\") emp_no is stored as <bytes> in sql"
   ]
  },
  {
   "cell_type": "code",
   "execution_count": 243,
   "metadata": {},
   "outputs": [],
   "source": [
    "session.rollback()"
   ]
  }
 ],
 "metadata": {
  "kernelspec": {
   "display_name": "PythonData",
   "language": "python",
   "name": "python3"
  },
  "language_info": {
   "codemirror_mode": {
    "name": "ipython",
    "version": 3
   },
   "file_extension": ".py",
   "mimetype": "text/x-python",
   "name": "python",
   "nbconvert_exporter": "python",
   "pygments_lexer": "ipython3",
   "version": "3.7.7"
  },
  "orig_nbformat": 4,
  "vscode": {
   "interpreter": {
    "hash": "4904c410c1507775547b44abbbc3629ef487f941be4e53d4b3f1c576a9d2c5a0"
   }
  }
 },
 "nbformat": 4,
 "nbformat_minor": 2
}
