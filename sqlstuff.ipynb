{
 "cells": [
  {
   "cell_type": "code",
   "execution_count": 41,
   "metadata": {},
   "outputs": [],
   "source": [
    "import pandas as pd\n",
    "from sqlalchemy import create_engine, text, inspect\n",
    "from sqlalchemy import Column, Integer, String, Float, ForeignKey,Date\n",
    "from sqlalchemy.ext.declarative import declarative_base\n",
    "from sqlalchemy.orm import Session\n",
    "Base = declarative_base()"
   ]
  },
  {
   "cell_type": "code",
   "execution_count": 42,
   "metadata": {},
   "outputs": [],
   "source": [
    "dept_path = r\"data/departments.csv\"\n",
    "depemp_path = r\"data/dept_emp.csv\"\n",
    "deptman_path = r\"data/dept_manager.csv\"\n",
    "emp_path = r\"data/employees.csv\"\n",
    "salary_path = r\"data/salaries.csv\"\n",
    "title_path = r\"data/titles.csv\""
   ]
  },
  {
   "cell_type": "code",
   "execution_count": 43,
   "metadata": {},
   "outputs": [],
   "source": [
    "depts = pd.read_csv(dept_path)\n",
    "# depts.head()"
   ]
  },
  {
   "cell_type": "code",
   "execution_count": 44,
   "metadata": {},
   "outputs": [],
   "source": [
    "class Title(Base):\n",
    "    __tablename__ = \"titles\"\n",
    "    id =  Column(Integer, primary_key=True)\n",
    "    title_id = Column(String(255))\n",
    "    title = Column(String(255))"
   ]
  },
  {
   "cell_type": "code",
   "execution_count": 45,
   "metadata": {},
   "outputs": [],
   "source": [
    "class Department(Base):\n",
    "    __tablename__ = \"departments\"\n",
    "    id =  Column(Integer, primary_key=True)\n",
    "    dept_no = Column(String(255))\n",
    "    dept_name = Column(String(255))"
   ]
  },
  {
   "cell_type": "code",
   "execution_count": 46,
   "metadata": {},
   "outputs": [],
   "source": [
    "class Employee(Base):\n",
    "    __tablename__ = \"employees\"\n",
    "    id =  Column(Integer, primary_key=True)\n",
    "    emp_no = Column(String(255))\n",
    "    emp_title_id = Column(Integer, ForeignKey(Title.title_id),primary_key = True) \n",
    "    birth_date = Column(Date)\n",
    "    first_name = Column(String(255))\n",
    "    last_name = Column(String(255))\n",
    "    sex = Column(String(255))\n",
    "    hire_date = Column(Date)"
   ]
  },
  {
   "cell_type": "code",
   "execution_count": 47,
   "metadata": {},
   "outputs": [],
   "source": [
    "class Manager(Base):\n",
    "    __tablename__ = \"managers\"\n",
    "    id = Column(Integer, primary_key=True)\n",
    "    dept_no = Column(String(255), ForeignKey(Department.dept_no), primary_key = True)\n",
    "    emp_no = Column(Integer, ForeignKey(Employee.emp_no), primary_key = True)"
   ]
  },
  {
   "cell_type": "code",
   "execution_count": 48,
   "metadata": {},
   "outputs": [],
   "source": [
    "class Salary(Base):\n",
    "    __tablename__ = \"salaries\"\n",
    "    id =  Column(Integer, primary_key=True)\n",
    "    emp_no = Column(Integer, ForeignKey(Employee.emp_no), primary_key = True)\n",
    "    salary = Column(Integer)"
   ]
  },
  {
   "cell_type": "code",
   "execution_count": 49,
   "metadata": {},
   "outputs": [],
   "source": [
    "class Department_Employee(Base):\n",
    "    __tablename__ = \"department_employees\"\n",
    "    id =  Column(Integer, primary_key=True)\n",
    "    emp_no = Column(Integer, ForeignKey(Employee.emp_no), primary_key = True)\n",
    "    dept_no = Column(String(255), ForeignKey(Department.dept_no), primary_key = True)"
   ]
  },
  {
   "cell_type": "code",
   "execution_count": 50,
   "metadata": {},
   "outputs": [],
   "source": [
    "engine = create_engine('sqlite:///data/johnson.sqlite')\n",
    "Base.metadata.create_all(engine)"
   ]
  },
  {
   "cell_type": "code",
   "execution_count": 51,
   "metadata": {},
   "outputs": [],
   "source": [
    "session = Session(bind=engine)"
   ]
  },
  {
   "cell_type": "code",
   "execution_count": null,
   "metadata": {},
   "outputs": [],
   "source": [
    "# dep0 = Department(dept_no = depts.iloc[[0]][\"dept_no\"][0], dept_name = depts.iloc[[0]][\"dept_name\"][0])\n",
    "# print(type(dep0.dept_name))\n",
    "# session.add(dep0)\n",
    "# session.commit()"
   ]
  },
  {
   "cell_type": "code",
   "execution_count": null,
   "metadata": {},
   "outputs": [],
   "source": [
    "def depf(ind):\n",
    "    return Department(dept_no = depts.iloc[[ind]][\"dept_no\"][0], dept_name = depts.iloc[[ind]][\"dept_name\"][0])"
   ]
  },
  {
   "cell_type": "code",
   "execution_count": null,
   "metadata": {},
   "outputs": [],
   "source": [
    "def depf(ind):\n",
    "    return Department(dept_no = depts.iloc[[ind]][\"dept_no\"][0], dept_name = depts.iloc[[ind]][\"dept_name\"][0])"
   ]
  },
  {
   "cell_type": "code",
   "execution_count": null,
   "metadata": {},
   "outputs": [],
   "source": [
    "def depf(ind):\n",
    "    return Department(dept_no = depts.iloc[[ind]][\"dept_no\"][0], dept_name = depts.iloc[[ind]][\"dept_name\"][0])"
   ]
  },
  {
   "cell_type": "code",
   "execution_count": null,
   "metadata": {},
   "outputs": [],
   "source": [
    "def depf(ind):\n",
    "    return Department(dept_no = depts.iloc[[ind]][\"dept_no\"][0], dept_name = depts.iloc[[ind]][\"dept_name\"][0])"
   ]
  },
  {
   "cell_type": "code",
   "execution_count": null,
   "metadata": {},
   "outputs": [],
   "source": [
    "def depf(ind):\n",
    "    return Department(dept_no = depts.iloc[[ind]][\"dept_no\"][0], dept_name = depts.iloc[[ind]][\"dept_name\"][0])"
   ]
  },
  {
   "cell_type": "code",
   "execution_count": null,
   "metadata": {},
   "outputs": [],
   "source": [
    "def depf(ind):\n",
    "    return Department(dept_no = depts.iloc[[ind]][\"dept_no\"][0], dept_name = depts.iloc[[ind]][\"dept_name\"][0])"
   ]
  },
  {
   "cell_type": "code",
   "execution_count": 56,
   "metadata": {},
   "outputs": [],
   "source": [
    "from sqlalchemy import inspect\n",
    "# inspector = inspect(engine)\n",
    "# inspector.get_table_names()\n",
    "# inspector.get_columns('departments')\n",
    "deptso = session.query(Department)\n",
    "that_one = session.query(Department).filter(Department.dept_name == \"Marketing\").first()\n",
    "session.delete(that_one)\n",
    "for dpt in deptso:\n",
    "    print(dpt.dept_name)\n",
    "session.commit()"
   ]
  }
 ],
 "metadata": {
  "kernelspec": {
   "display_name": "PythonData",
   "language": "python",
   "name": "python3"
  },
  "language_info": {
   "codemirror_mode": {
    "name": "ipython",
    "version": 3
   },
   "file_extension": ".py",
   "mimetype": "text/x-python",
   "name": "python",
   "nbconvert_exporter": "python",
   "pygments_lexer": "ipython3",
   "version": "3.7.7"
  },
  "orig_nbformat": 4,
  "vscode": {
   "interpreter": {
    "hash": "4904c410c1507775547b44abbbc3629ef487f941be4e53d4b3f1c576a9d2c5a0"
   }
  }
 },
 "nbformat": 4,
 "nbformat_minor": 2
}
